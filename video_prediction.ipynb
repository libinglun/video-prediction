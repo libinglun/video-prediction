{
 "cells": [
  {
   "cell_type": "markdown",
   "source": [
    "## Question 1"
   ],
   "metadata": {
    "collapsed": false
   },
   "id": "ddc4c64ac4018bc7"
  },
  {
   "cell_type": "markdown",
   "source": [
    "## 1.0 Prepare for the video dataset\n"
   ],
   "metadata": {
    "collapsed": false
   },
   "id": "c7ffd86af9069e7f"
  },
  {
   "cell_type": "code",
   "execution_count": 1,
   "outputs": [],
   "source": [
    "import cv2\n",
    "import numpy as np\n",
    "import matplotlib.pyplot as plt\n",
    "import os\n",
    "import tqdm"
   ],
   "metadata": {
    "collapsed": false,
    "ExecuteTime": {
     "end_time": "2024-02-04T00:28:24.884793Z",
     "start_time": "2024-02-04T00:28:24.483126Z"
    }
   },
   "id": "95b6e682d582eee2"
  },
  {
   "cell_type": "code",
   "execution_count": 548,
   "outputs": [],
   "source": [
    "from utils import check_range, has_nan"
   ],
   "metadata": {
    "collapsed": false,
    "ExecuteTime": {
     "end_time": "2024-02-05T18:22:29.510841Z",
     "start_time": "2024-02-05T18:22:29.507174Z"
    }
   },
   "id": "c8dda3bd9d7d3e1e"
  },
  {
   "cell_type": "code",
   "execution_count": 547,
   "outputs": [
    {
     "data": {
      "text/plain": "<module 'utils' from '/Users/binglunli/Desktop/IC_UROP/utils.py'>"
     },
     "execution_count": 547,
     "metadata": {},
     "output_type": "execute_result"
    }
   ],
   "source": [
    "import importlib\n",
    "import utils\n",
    "importlib.reload(utils)"
   ],
   "metadata": {
    "collapsed": false,
    "ExecuteTime": {
     "end_time": "2024-02-05T18:22:27.592831Z",
     "start_time": "2024-02-05T18:22:27.587180Z"
    }
   },
   "id": "862a7e02deb7e35f"
  },
  {
   "cell_type": "code",
   "execution_count": 89,
   "outputs": [],
   "source": [
    "total_size = 48\n",
    "train_size = 40\n",
    "test_size = 8\n",
    "timesteps, height, width = 16, 128, 128\n",
    "filename = 'fire_Chimney_video_'\n",
    "num_img = 8"
   ],
   "metadata": {
    "collapsed": false,
    "ExecuteTime": {
     "end_time": "2024-02-04T10:53:22.705936Z",
     "start_time": "2024-02-04T10:53:22.693984Z"
    }
   },
   "id": "678f275311833b29"
  },
  {
   "cell_type": "code",
   "execution_count": 4,
   "outputs": [],
   "source": [
    "def read_video_to_array(video_path):\n",
    "    \n",
    "    video = cv2.VideoCapture(video_path)\n",
    "    \n",
    "    # Each video has exactly 16 frames of 128x128 pixels\n",
    "    frames = np.zeros((timesteps, height, width), dtype=np.uint8)\n",
    "    \n",
    "    frame_count = 0\n",
    "    success = True\n",
    "    while success:\n",
    "        success, frame = video.read()\n",
    "        if success:\n",
    "            gray_frame = cv2.cvtColor(frame, cv2.COLOR_BGR2GRAY)\n",
    "            # resized_frame = cv2.resize(gray_frame, (128, 128))\n",
    "            frames[frame_count] = gray_frame\n",
    "            frame_count += 1\n",
    "            \n",
    "    video.release()\n",
    "    assert frame_count == 16, \"Number of Frames is inconsistent\"\n",
    "    \n",
    "    return frames"
   ],
   "metadata": {
    "collapsed": false,
    "ExecuteTime": {
     "end_time": "2024-02-04T00:28:28.569969Z",
     "start_time": "2024-02-04T00:28:28.558572Z"
    }
   },
   "id": "d4e814c23da52cf3"
  },
  {
   "cell_type": "code",
   "execution_count": 5,
   "outputs": [],
   "source": [
    "def read_all_videos(input_folder, size=48):\n",
    "    video_files = []\n",
    "    for index in range(size):\n",
    "        video_files.append(os.path.join(input_folder, filename + str(index) + '.mp4'))\n",
    "    videos = []\n",
    "    for video_path in tqdm.tqdm(sorted(video_files)):\n",
    "        videos.append(read_video_to_array(video_path))\n",
    "        \n",
    "    return np.array(videos)"
   ],
   "metadata": {
    "collapsed": false,
    "ExecuteTime": {
     "end_time": "2024-02-04T00:28:32.605385Z",
     "start_time": "2024-02-04T00:28:32.588366Z"
    }
   },
   "id": "fa2a4cc2de0f9307"
  },
  {
   "cell_type": "code",
   "execution_count": 6,
   "outputs": [
    {
     "name": "stderr",
     "output_type": "stream",
     "text": [
      "100%|██████████| 48/48 [00:00<00:00, 275.47it/s]\n"
     ]
    }
   ],
   "source": [
    "# Example usage\n",
    "input_folder =  os.getcwd() + '/VIDEOS'\n",
    "output_folder = os.getcwd() + 'FRAMES'\n",
    "videos = read_all_videos(input_folder)"
   ],
   "metadata": {
    "collapsed": false,
    "ExecuteTime": {
     "end_time": "2024-02-04T00:28:34.153957Z",
     "start_time": "2024-02-04T00:28:33.955956Z"
    }
   },
   "id": "c24b805d81336ec"
  },
  {
   "cell_type": "code",
   "execution_count": 7,
   "outputs": [],
   "source": [
    "assert videos.shape == (48, 16, 128, 128), \"Shape of dataset is incorrect!\"\n",
    "train_videos, test_videos = videos[:train_size], videos[train_size:train_size + test_size]\n",
    "assert train_videos.shape == (train_size, 16, 128, 128), \"Shape of dataset is incorrect!\"\n",
    "assert test_videos.shape == (test_size, 16, 128, 128), \"Shape of dataset is incorrect!\""
   ],
   "metadata": {
    "collapsed": false,
    "ExecuteTime": {
     "end_time": "2024-02-04T00:28:35.242789Z",
     "start_time": "2024-02-04T00:28:35.211637Z"
    }
   },
   "id": "977f25e9f59673e6"
  },
  {
   "cell_type": "markdown",
   "source": [
    "## 1.1 Perform the principle component analysis on the dataset"
   ],
   "metadata": {
    "collapsed": false
   },
   "id": "4b395a012d36dbdc"
  },
  {
   "cell_type": "markdown",
   "source": [
    "### 1.1.1 Apply PCA on the entire video dataset and evaluate the reconstruction error"
   ],
   "metadata": {
    "collapsed": false
   },
   "id": "5b2f12baa9435bfa"
  },
  {
   "cell_type": "code",
   "execution_count": 8,
   "outputs": [
    {
     "data": {
      "text/plain": "1.0674"
     },
     "execution_count": 8,
     "metadata": {},
     "output_type": "execute_result"
    }
   ],
   "source": [
    "from sklearn.decomposition import PCA\n",
    "\n",
    "videos_reshaped = videos.reshape(total_size * timesteps, height * width)\n",
    "\n",
    "pca = PCA(n_components=128) \n",
    "videos_compressed = pca.fit_transform(videos_reshaped)\n",
    "videos_decompressed = pca.inverse_transform(videos_compressed)\n",
    "videos_decompressed_reshaped = videos_decompressed.reshape(total_size, timesteps, height, width)\n",
    "\n",
    "pca_recon_error = np.mean((videos - videos_decompressed_reshaped) ** 2) / total_size\n",
    "round(pca_recon_error, 4)"
   ],
   "metadata": {
    "collapsed": false,
    "ExecuteTime": {
     "end_time": "2024-02-04T00:28:43.719145Z",
     "start_time": "2024-02-04T00:28:36.363880Z"
    }
   },
   "id": "843d6d0d1e9a9bcc"
  },
  {
   "cell_type": "markdown",
   "source": [
    "### 1.1.2 Plot the difference between the image before and after PCA compression"
   ],
   "metadata": {
    "collapsed": false
   },
   "id": "b5c13232792c0c5"
  },
  {
   "cell_type": "code",
   "execution_count": 9,
   "outputs": [
    {
     "data": {
      "text/plain": "<Figure size 1500x400 with 16 Axes>",
      "image/png": "[encoded data removed]"
     },
     "metadata": {},
     "output_type": "display_data"
    }
   ],
   "source": [
    "fig, ax = plt.subplots(2, num_img, figsize=(15, 4))\n",
    "for i in range(num_img):\n",
    "    ax[0, i].imshow(videos[0][i])\n",
    "    ax[1, i].imshow(videos_decompressed_reshaped[0][i])\n",
    "    ax[0, i].axis('OFF')\n",
    "    ax[1, i].axis('OFF')"
   ],
   "metadata": {
    "collapsed": false,
    "ExecuteTime": {
     "end_time": "2024-02-04T00:28:44.907891Z",
     "start_time": "2024-02-04T00:28:44.676622Z"
    }
   },
   "id": "50c7b624b91bd215"
  },
  {
   "cell_type": "markdown",
   "source": [
    "The higher the number of PCA components, the more accurate the image reconstruction becomes. This indeed makes sense because reducing tensors to a lower dimension results in a greater loss of information, given that the PCA is not reversible."
   ],
   "metadata": {
    "collapsed": false
   },
   "id": "7a4ff0068319173d"
  },
  {
   "cell_type": "markdown",
   "source": [
    "## 1.2 Perform CAE(convolutional autoencoder) analysis"
   ],
   "metadata": {
    "collapsed": false
   },
   "id": "2bbcf7c57002f34b"
  },
  {
   "cell_type": "markdown",
   "source": [
    "### 1.2.1 Prepare tensors for autoencoders"
   ],
   "metadata": {
    "collapsed": false
   },
   "id": "41bb33f06e8e0c19"
  },
  {
   "cell_type": "code",
   "execution_count": 109,
   "outputs": [],
   "source": [
    "import torch\n",
    "import torch.nn as nn\n",
    "import torch.optim as optim\n",
    "from torch.utils.data import DataLoader\n",
    "\n",
    "train_videos_tensor = torch.from_numpy(train_videos).float() # [40, 16, 128, 128]\n",
    "test_videos_tensor = torch.from_numpy(test_videos).float() # [8, 16, 128, 128]\n",
    "\n",
    "train_data, val_data = torch.split(train_videos_tensor, dim=0, split_size_or_sections=[32, 8]) \n",
    "test_data = test_videos_tensor.view(-1, 128, 128).unsqueeze(1) # [8*16, 1, 128, 128]\n",
    "train_loader = torch.split(train_data, dim=1, split_size_or_sections=1) # 16 * 【32， 1， 128， 128】\n",
    "val_loader = torch.split(val_data, dim=1, split_size_or_sections=1)     # 16 * 【8， 1， 128， 128】\n",
    "test_loader = torch.split(test_data, dim=1, split_size_or_sections=1)   # 16 * 【8， 1， 128， 128】\n",
    "\n",
    "# train_videos_tensor_reshaped = train_videos_tensor.view(-1, 128, 128).unsqueeze(1)  # [40*16, 1, 128, 128]\n",
    "# train_size = len(train_videos_tensor_reshaped)\n",
    "# 20% validation data -- 32 videos left for training\n",
    "\n",
    "\n",
    "# train_data, val_data = torch.utils.data.random_split(train_videos_tensor, [int(0.8 * train_size), int(0.2 * train_size)])\n",
    "# train_loader = DataLoader(dataset=train_data_list, shuffle=True)\n",
    "# val_loader = DataLoader(dataset=val_data, batch_size=8, shuffle=False)\n",
    "# test_loader = DataLoader(dataset=test_data, batch_size=8, shuffle=False)"
   ],
   "metadata": {
    "collapsed": false,
    "ExecuteTime": {
     "end_time": "2024-02-04T11:11:34.968132Z",
     "start_time": "2024-02-04T11:11:34.955658Z"
    }
   },
   "id": "cec547297d672ecc"
  },
  {
   "cell_type": "code",
   "execution_count": 111,
   "outputs": [
    {
     "name": "stdout",
     "output_type": "stream",
     "text": [
      "torch.Size([8, 1, 128, 128])\n",
      "torch.Size([8, 1, 128, 128])\n",
      "torch.Size([8, 1, 128, 128])\n",
      "torch.Size([8, 1, 128, 128])\n",
      "torch.Size([8, 1, 128, 128])\n",
      "torch.Size([8, 1, 128, 128])\n",
      "torch.Size([8, 1, 128, 128])\n",
      "torch.Size([8, 1, 128, 128])\n",
      "torch.Size([8, 1, 128, 128])\n",
      "torch.Size([8, 1, 128, 128])\n",
      "torch.Size([8, 1, 128, 128])\n",
      "torch.Size([8, 1, 128, 128])\n",
      "torch.Size([8, 1, 128, 128])\n",
      "torch.Size([8, 1, 128, 128])\n",
      "torch.Size([8, 1, 128, 128])\n",
      "torch.Size([8, 1, 128, 128])\n"
     ]
    }
   ],
   "source": [
    "for data in test_loader:\n",
    "    print(data.shape)"
   ],
   "metadata": {
    "collapsed": false,
    "ExecuteTime": {
     "end_time": "2024-02-04T11:13:08.797597Z",
     "start_time": "2024-02-04T11:13:08.773146Z"
    }
   },
   "id": "1cf2e00ff81c7d9e"
  },
  {
   "cell_type": "markdown",
   "source": [
    "### 1.2.2 Define the convolutional autoencoder model"
   ],
   "metadata": {
    "collapsed": false
   },
   "id": "a571ef001916c855"
  },
  {
   "cell_type": "code",
   "execution_count": 139,
   "outputs": [],
   "source": [
    "class ConvAutoencoderMaxpool(nn.Module):\n",
    "    def __init__(self):\n",
    "        super(ConvAutoencoderMaxpool, self).__init__()\n",
    "    \n",
    "        self.encoder = nn.Sequential(\n",
    "            # 1 input channel due to grayscale images\n",
    "            nn.Conv2d(1, 16, kernel_size=3, stride=1, padding=1),   # [batch, 16, 128, 128]\n",
    "            nn.ReLU(),\n",
    "            nn.MaxPool2d(kernel_size=2, stride=2),                  # [batch, 16, 64, 64]\n",
    "            nn.Conv2d(16, 32, kernel_size=3, stride=1, padding=1),  # [batch, 32, 64, 64]\n",
    "            nn.ReLU(),\n",
    "            nn.MaxPool2d(kernel_size=2, stride=2),                  # [batch, 32, 32, 32]\n",
    "            nn.Conv2d(32, 1, kernel_size=3, stride=1, padding=1),  # [batch, 8, 32, 32]\n",
    "            nn.ReLU(),\n",
    "            nn.MaxPool2d(kernel_size=2, stride=2),                  # [batch, 1, 16, 16]\n",
    "        )\n",
    "    \n",
    "        self.decoder = nn.Sequential(\n",
    "            nn.ConvTranspose2d(1, 32, 3, stride=2, padding=1, output_padding=1),  # [batch, 32, 32, 32]\n",
    "            nn.ReLU(),\n",
    "            nn.ConvTranspose2d(32, 16, 3, stride=2, padding=1, output_padding=1),  # [batch, 16, 64, 64]\n",
    "            nn.ReLU(),\n",
    "            nn.ConvTranspose2d(16, 1, 3, stride=2, padding=1, output_padding=1),  # [batch, 1, 128, 128]\n",
    "            nn.Sigmoid()\n",
    "        )\n",
    "\n",
    "    def forward(self, x):\n",
    "        x = self.encoder(x)\n",
    "        x = self.decoder(x)\n",
    "        return x"
   ],
   "metadata": {
    "collapsed": false,
    "ExecuteTime": {
     "end_time": "2024-02-04T12:34:39.858179Z",
     "start_time": "2024-02-04T12:34:39.849003Z"
    }
   },
   "id": "6c89502ab3e8cf88"
  },
  {
   "cell_type": "code",
   "execution_count": 140,
   "outputs": [],
   "source": [
    "class ConvAutoencoderDeep(nn.Module):\n",
    "    def __init__(self):\n",
    "        super(ConvAutoencoderDeep, self).__init__()\n",
    "\n",
    "        self.encoder = nn.Sequential(\n",
    "            # 1 input channel due to grayscale images\n",
    "            nn.Conv2d(1, 16, kernel_size=3, stride=2, padding=1),  # [batch, 16, 64, 64]\n",
    "            nn.ReLU(),\n",
    "            nn.Conv2d(16, 32, kernel_size=3, stride=2, padding=1),  # [batch, 32, 32, 32]\n",
    "            nn.ReLU(),\n",
    "            nn.Conv2d(32, 1, kernel_size=3, stride=2, padding=1),  # [batch, 1, 16, 16]\n",
    "            nn.ReLU(),\n",
    "        )\n",
    "\n",
    "        self.decoder = nn.Sequential(\n",
    "            nn.ConvTranspose2d(1, 32, 3, stride=2, padding=1, output_padding=1),  # [batch, 32, 32, 32]\n",
    "            nn.ReLU(),\n",
    "            nn.ConvTranspose2d(32, 16, 3, stride=2, padding=1, output_padding=1),  # [batch, 16, 64, 64]\n",
    "            nn.ReLU(),\n",
    "            nn.ConvTranspose2d(16, 1, 3, stride=2, padding=1, output_padding=1),  # [batch, 1, 128, 128]\n",
    "            nn.Sigmoid()\n",
    "        )\n",
    "\n",
    "    def forward(self, x):\n",
    "        x = self.encoder(x)\n",
    "        x = self.decoder(x)\n",
    "        return x"
   ],
   "metadata": {
    "collapsed": false,
    "ExecuteTime": {
     "end_time": "2024-02-04T12:34:40.711440Z",
     "start_time": "2024-02-04T12:34:40.700869Z"
    }
   },
   "id": "19e6d1e8f2f0b59d"
  },
  {
   "cell_type": "code",
   "execution_count": 13,
   "outputs": [],
   "source": [
    "class ConvAutoencoder(nn.Module):\n",
    "    def __init__(self):\n",
    "        super(ConvAutoencoder, self).__init__()\n",
    "\n",
    "        self.encoder = nn.Sequential(\n",
    "            # 1 input channel due to grayscale images\n",
    "            nn.Conv2d(1, 1, kernel_size=3, stride=2, padding=1),  # [batch, 16, 64, 64]\n",
    "            nn.ReLU(),\n",
    "            nn.Conv2d(1, 1, kernel_size=3, stride=2, padding=1),  # [batch, 32, 32, 32]\n",
    "            nn.ReLU(),\n",
    "            nn.Conv2d(1, 1, kernel_size=3, stride=2, padding=1),  # [batch, 1, 16, 16]\n",
    "            nn.ReLU(),\n",
    "        )\n",
    "\n",
    "        self.decoder = nn.Sequential(\n",
    "            nn.ConvTranspose2d(1, 1, 3, stride=2, padding=1, output_padding=1),  # [batch, 32, 32, 32]\n",
    "            nn.ReLU(),\n",
    "            nn.ConvTranspose2d(1, 1, 3, stride=2, padding=1, output_padding=1),  # [batch, 16, 64, 64]\n",
    "            nn.ReLU(),\n",
    "            nn.ConvTranspose2d(1, 1, 3, stride=2, padding=1, output_padding=1),  # [batch, 1, 128, 128]\n",
    "            nn.Sigmoid()\n",
    "        )\n",
    "\n",
    "    def forward(self, x):\n",
    "        x = self.encoder(x)\n",
    "        x = self.decoder(x)\n",
    "        return x"
   ],
   "metadata": {
    "collapsed": false,
    "ExecuteTime": {
     "end_time": "2024-02-04T00:28:52.239649Z",
     "start_time": "2024-02-04T00:28:52.227992Z"
    }
   },
   "id": "37f3af4fbeec7f87"
  },
  {
   "cell_type": "markdown",
   "source": [
    "### 1.2.3 Train the convolutional autoencoder on the video dataset"
   ],
   "metadata": {
    "collapsed": false
   },
   "id": "6a3a2bce3a04b5a0"
  },
  {
   "cell_type": "code",
   "execution_count": 135,
   "outputs": [],
   "source": [
    "def train_cae(model): \n",
    "    num_epochs = 50\n",
    "    criterion = nn.MSELoss()\n",
    "    optimizer = optim.Adam(model.parameters(), lr=0.001)\n",
    "    sigmoid = nn.Sigmoid()\n",
    "    \n",
    "    for epoch in range(num_epochs):\n",
    "        for data in train_loader:\n",
    "            optimizer.zero_grad()\n",
    "            output = model(data)\n",
    "            loss = criterion(output, sigmoid(data))\n",
    "            loss.backward()\n",
    "            optimizer.step()\n",
    "                \n",
    "        if epoch % 5 == 0: \n",
    "            with torch.no_grad():\n",
    "                val_loss = 0\n",
    "                for data in val_loader:\n",
    "                    output = model(data)\n",
    "                    val_loss += criterion(output, sigmoid(data)).item()\n",
    "                val_loss /= len(val_loader)\n",
    "            print(f'Epoch [{epoch+1}/{num_epochs}], Loss: {loss.item():.4f}, Val Loss: {val_loss:.4f}')\n",
    "    \n",
    "    torch.save(model.state_dict(), os.getcwd() + f'/params/autoencoder_{val_loss:.4f}.pth')"
   ],
   "metadata": {
    "collapsed": false,
    "ExecuteTime": {
     "end_time": "2024-02-04T12:33:37.415330Z",
     "start_time": "2024-02-04T12:33:37.407533Z"
    }
   },
   "id": "6e3ad19707f1cdd3"
  },
  {
   "cell_type": "code",
   "execution_count": 108,
   "outputs": [
    {
     "name": "stdout",
     "output_type": "stream",
     "text": [
      "Epoch [1/50], Loss: 0.0136, Val Loss: 0.0048\n",
      "Epoch [6/50], Loss: 0.0035, Val Loss: 0.0015\n",
      "Epoch [11/50], Loss: 0.0034, Val Loss: 0.0014\n",
      "Epoch [16/50], Loss: 0.0033, Val Loss: 0.0013\n",
      "Epoch [21/50], Loss: 0.0032, Val Loss: 0.0013\n",
      "Epoch [26/50], Loss: 0.0031, Val Loss: 0.0013\n",
      "Epoch [31/50], Loss: 0.0031, Val Loss: 0.0013\n",
      "Epoch [36/50], Loss: 0.0030, Val Loss: 0.0012\n",
      "Epoch [41/50], Loss: 0.0029, Val Loss: 0.0012\n",
      "Epoch [46/50], Loss: 0.0028, Val Loss: 0.0012\n"
     ]
    }
   ],
   "source": [
    "autoencoder_maxpool = ConvAutoencoderMaxpool()\n",
    "train_cae(autoencoder_maxpool)"
   ],
   "metadata": {
    "collapsed": false,
    "ExecuteTime": {
     "end_time": "2024-02-04T11:11:14.589975Z",
     "start_time": "2024-02-04T11:09:15.596236Z"
    }
   },
   "id": "57a133f1a0e47ff2"
  },
  {
   "cell_type": "code",
   "execution_count": 112,
   "outputs": [
    {
     "name": "stdout",
     "output_type": "stream",
     "text": [
      "Epoch [1/50], Loss: 0.0075, Val Loss: 0.0041\n",
      "Epoch [6/50], Loss: 0.0034, Val Loss: 0.0015\n",
      "Epoch [11/50], Loss: 0.0032, Val Loss: 0.0014\n",
      "Epoch [16/50], Loss: 0.0032, Val Loss: 0.0014\n",
      "Epoch [21/50], Loss: 0.0031, Val Loss: 0.0014\n",
      "Epoch [26/50], Loss: 0.0031, Val Loss: 0.0014\n",
      "Epoch [31/50], Loss: 0.0030, Val Loss: 0.0014\n",
      "Epoch [36/50], Loss: 0.0030, Val Loss: 0.0014\n",
      "Epoch [41/50], Loss: 0.0030, Val Loss: 0.0014\n",
      "Epoch [46/50], Loss: 0.0031, Val Loss: 0.0014\n"
     ]
    }
   ],
   "source": [
    "autoencoder_deep = ConvAutoencoderDeep()\n",
    "train_cae(autoencoder_deep)"
   ],
   "metadata": {
    "collapsed": false,
    "ExecuteTime": {
     "end_time": "2024-02-04T11:15:03.630705Z",
     "start_time": "2024-02-04T11:14:07.993362Z"
    }
   },
   "id": "61ed0474755c37a4"
  },
  {
   "cell_type": "markdown",
   "source": [
    "### 1.2.4 Plot the difference between images before and after compression"
   ],
   "metadata": {
    "collapsed": false,
    "ExecuteTime": {
     "end_time": "2024-02-04T00:26:40.577400Z",
     "start_time": "2024-02-04T00:26:28.815956Z"
    }
   },
   "id": "e6d5637613114b1f"
  },
  {
   "cell_type": "code",
   "execution_count": 542,
   "outputs": [
    {
     "name": "stdout",
     "output_type": "stream",
     "text": [
      "Reconstruction loss (with maxpooling): 0.2314\n",
      "Reconstruction loss : 0.2483\n"
     ]
    },
    {
     "data": {
      "text/plain": "<Figure size 1500x600 with 24 Axes>",
      "image/png": "[encoded data removed]"
     },
     "metadata": {},
     "output_type": "display_data"
    }
   ],
   "source": [
    "recon_maxpool = []\n",
    "recon_deep = []\n",
    "for data in test_data: \n",
    "    output = autoencoder_maxpool(data)  # [1, 128, 128]\n",
    "    # use logit as the inverse of sigmoid\n",
    "    greyscale_image = (torch.logit(output)).type(torch.uint8).squeeze(0).numpy()\n",
    "    recon_maxpool.append(greyscale_image)\n",
    "    \n",
    "    output = autoencoder_deep(data)  # [1, 128, 128]\n",
    "    # use logit as the inverse of sigmoid\n",
    "    greyscale_image = (torch.logit(output)).type(torch.uint8).squeeze(0).numpy()\n",
    "    recon_deep.append(greyscale_image)\n",
    "    \n",
    "cae_recon_error_maxpool = np.mean((np.array(recon_maxpool) - test_data.type(torch.uint8).squeeze(0).numpy()) ** 2) / test_size\n",
    "cae_recon_error_deep = np.mean((np.array(recon_deep) - test_data.type(torch.uint8).squeeze(0).numpy()) ** 2) / test_size\n",
    "print(f\"Reconstruction loss (with maxpooling): {cae_recon_error_maxpool:.4f}\")\n",
    "print(f\"Reconstruction loss : {cae_recon_error_deep:.4f}\")\n",
    "\n",
    "fig, ax = plt.subplots(3, num_img, figsize=(15, 6))\n",
    "for i in range(num_img):\n",
    "    ax[0, i].imshow(test_data[i].squeeze(0).numpy())\n",
    "    ax[1, i].imshow(recon_maxpool[i])\n",
    "    ax[2, i].imshow(recon_deep[i])\n",
    "    ax[0, i].axis('OFF')\n",
    "    ax[1, i].axis('OFF')\n",
    "    ax[2, i].axis('OFF')"
   ],
   "metadata": {
    "collapsed": false,
    "ExecuteTime": {
     "end_time": "2024-02-05T18:19:44.732437Z",
     "start_time": "2024-02-05T18:19:43.821257Z"
    }
   },
   "id": "a6eefc5de5da424e"
  },
  {
   "cell_type": "markdown",
   "source": [
    "# Question 2"
   ],
   "metadata": {
    "collapsed": false
   },
   "id": "b9814ac1d8ac3d3a"
  },
  {
   "cell_type": "markdown",
   "source": [
    "### 2.1 Prepare the sequential encoded data for the seq2seq LSTM model"
   ],
   "metadata": {
    "collapsed": false
   },
   "id": "17b9deaf3683686f"
  },
  {
   "cell_type": "code",
   "execution_count": 241,
   "outputs": [],
   "source": [
    "def create_seq_data(data_loader, autoencoder, batch_size):\n",
    "    encoded_data = []\n",
    "    seq_data = []\n",
    "    for data in data_loader:\n",
    "        encoded_batch = autoencoder.encoder(data)\n",
    "        encoded_data.append(encoded_batch.view(batch_size, 1, -1))\n",
    "    concat_data =  torch.cat(encoded_data, 1)\n",
    "    print(concat_data.shape)\n",
    "    for i in range(len(encoded_data) - 3):\n",
    "        seq_data.append(concat_data[:, i:i+4, :])\n",
    "        \n",
    "    return seq_data"
   ],
   "metadata": {
    "collapsed": false,
    "ExecuteTime": {
     "end_time": "2024-02-04T13:51:40.387664Z",
     "start_time": "2024-02-04T13:51:40.371035Z"
    }
   },
   "id": "64bc391722f1d300"
  },
  {
   "cell_type": "code",
   "execution_count": 242,
   "outputs": [
    {
     "name": "stdout",
     "output_type": "stream",
     "text": [
      "torch.Size([32, 16, 256])\n",
      "torch.Size([8, 16, 256])\n",
      "torch.Size([8, 4, 256]) 13\n"
     ]
    }
   ],
   "source": [
    "seq_train_data = create_seq_data(train_loader, autoencoder_deep, 32)   \n",
    "seq_val_data = create_seq_data(val_loader, autoencoder_deep, 8)\n",
    "print(seq_val_data[0].shape, len(seq_val_data))\n",
    "# len(seq_train_data), seq_train_data[0].shape"
   ],
   "metadata": {
    "collapsed": false,
    "ExecuteTime": {
     "end_time": "2024-02-04T13:51:42.147047Z",
     "start_time": "2024-02-04T13:51:41.443771Z"
    }
   },
   "id": "d1bea59eb2e7d3b6"
  },
  {
   "cell_type": "markdown",
   "source": [
    "### 2.2 Define the LSTM model"
   ],
   "metadata": {
    "collapsed": false
   },
   "id": "3f9f40c2cbc5e3aa"
  },
  {
   "cell_type": "markdown",
   "source": [
    "The seq2seq LSTM implemented here directly predicts the future 4 timesteps"
   ],
   "metadata": {
    "collapsed": false
   },
   "id": "e8043d00894fb70e"
  },
  {
   "cell_type": "code",
   "execution_count": 243,
   "outputs": [],
   "source": [
    "class Seq2SeqLSTM(nn.Module):\n",
    "    def __init__(self, input_dim, hidden_dim, num_layers, output_dim):\n",
    "        super(Seq2SeqLSTM, self).__init__()\n",
    "        self.lstm = nn.LSTM(input_dim, hidden_dim, num_layers, batch_first=True)\n",
    "        self.fc = nn.Linear(hidden_dim, output_dim)\n",
    "\n",
    "    def forward(self, x):\n",
    "        lstm_out, (hidden, cell) = self.lstm(x) # [batch_size, seq_length, hidden_dim]\n",
    "        seq_out = self.fc(lstm_out)  # [batch_size, seq_length, output_dim]\n",
    "        return seq_out"
   ],
   "metadata": {
    "collapsed": false,
    "ExecuteTime": {
     "end_time": "2024-02-04T13:51:42.941011Z",
     "start_time": "2024-02-04T13:51:42.922488Z"
    }
   },
   "id": "a504580db6b8526e"
  },
  {
   "cell_type": "code",
   "execution_count": 320,
   "outputs": [],
   "source": [
    "def train_lstm(model, criterion=nn.MSELoss()):\n",
    "    optimizer = optim.Adam(model.parameters(), lr=0.001)\n",
    "    num_epochs = 100\n",
    "    duplicate = seq_train_data.copy()\n",
    "    \n",
    "    for epoch in range(num_epochs):\n",
    "        for index, inputs in enumerate(seq_train_data[:-1]):\n",
    "            optimizer.zero_grad()\n",
    "            outputs = model(inputs)     # inputs shape: [batch_size, seq_length, input_dim]\n",
    "            # TODO: decide the stride of the target\n",
    "            if criterion == SSIMLoss():\n",
    "                loss = criterion(outputs.view(32, 4, 16, 16), duplicate[index + 1].view(32, 4, 16, 16))\n",
    "            else:\n",
    "                loss = criterion(outputs, duplicate[index + 1])\n",
    "            loss.backward(retain_graph=True)\n",
    "            optimizer.step()\n",
    "            \n",
    "        if epoch % 5 == 0: \n",
    "            with torch.no_grad():\n",
    "                val_loss = 0\n",
    "                for index, data in enumerate(seq_val_data[:-1]):\n",
    "                    output = model(data)\n",
    "                    val_loss += criterion(output.view(8, 4, 16, 16), seq_val_data[index + 1].view(8, 4, 16, 16)).item()\n",
    "                val_loss /= len(val_loader)\n",
    "            print(f'Epoch [{epoch+1}/{num_epochs}], Loss: {loss.item():.4f}, Val Loss: {val_loss:.4f}')"
   ],
   "metadata": {
    "collapsed": false,
    "ExecuteTime": {
     "end_time": "2024-02-04T16:32:13.886685Z",
     "start_time": "2024-02-04T16:32:13.876175Z"
    }
   },
   "id": "2e618365e7ae2998"
  },
  {
   "cell_type": "markdown",
   "source": [
    "### 2.3 Define different loss metrics"
   ],
   "metadata": {
    "collapsed": false
   },
   "id": "e8e17e5271aa21f7"
  },
  {
   "cell_type": "code",
   "execution_count": 245,
   "outputs": [],
   "source": [
    "class RMSELoss(nn.Module):\n",
    "    def __init__(self):\n",
    "        super().__init__()\n",
    "        self.mse = nn.MSELoss()\n",
    "    \n",
    "    def forward(self, predicted, actual):\n",
    "        return torch.sqrt(self.mse(predicted, actual))"
   ],
   "metadata": {
    "collapsed": false,
    "ExecuteTime": {
     "end_time": "2024-02-04T13:51:47.332590Z",
     "start_time": "2024-02-04T13:51:47.315482Z"
    }
   },
   "id": "7a5083e3bd44b5b"
  },
  {
   "cell_type": "code",
   "execution_count": 317,
   "outputs": [],
   "source": [
    "import torch\n",
    "import torch.nn.functional as F\n",
    "from math import exp\n",
    "\n",
    "# Implementation of Structural Similarity Index (SSIM) in PyTorch\n",
    "class SSIMLoss(torch.nn.Module):\n",
    "    def __init__(self, window_size=11, size_average=True):\n",
    "        super(SSIMLoss, self).__init__()\n",
    "        self.window_size = window_size\n",
    "        self.size_average = size_average\n",
    "        self.channel = 1\n",
    "        self.window = self.create_window(window_size, self.channel)\n",
    "\n",
    "    def create_window(self, window_size, channel):\n",
    "        def gaussian(window_size, sigma):\n",
    "            gauss = torch.Tensor([exp(-(x - window_size // 2) ** 2 / float(2 * sigma ** 2)) for x in range(window_size)])\n",
    "            return gauss / gauss.sum()\n",
    "\n",
    "        _1D_window = gaussian(window_size, 1.5).unsqueeze(1)\n",
    "        _2D_window = _1D_window.mm(_1D_window.t()).float().unsqueeze(0).unsqueeze(0)\n",
    "        window = _2D_window.expand(channel, 1, window_size, window_size).contiguous()\n",
    "        return window\n",
    "\n",
    "    def forward(self, img1, img2):\n",
    "        (_, channel, _, _) = img1.size()\n",
    "\n",
    "        if channel == self.channel and self.window.data.type() == img1.data.type():\n",
    "            window = self.window\n",
    "        else:\n",
    "            window = self.create_window(self.window_size, channel)\n",
    "            if img1.is_cuda:\n",
    "                window = window.cuda(img1.get_device())\n",
    "            window = window.type_as(img1)\n",
    "            self.window = window\n",
    "            self.channel = channel\n",
    "\n",
    "        mu1 = F.conv2d(img1, window, padding=self.window_size // 2, groups=channel)\n",
    "        mu2 = F.conv2d(img2, window, padding=self.window_size // 2, groups=channel)\n",
    "\n",
    "        mu1_sq = mu1.pow(2)\n",
    "        mu2_sq = mu2.pow(2)\n",
    "        mu1_mu2 = mu1 * mu2\n",
    "\n",
    "        sigma1_sq = F.conv2d(img1 * img1, window, padding=self.window_size // 2, groups=channel) - mu1_sq\n",
    "        sigma2_sq = F.conv2d(img2 * img2, window, padding=self.window_size // 2, groups=channel) - mu2_sq\n",
    "        sigma12 = F.conv2d(img1 * img2, window, padding=self.window_size // 2, groups=channel) - mu1_mu2\n",
    "\n",
    "        C1 = 0.01 ** 2\n",
    "        C2 = 0.03 ** 2\n",
    "\n",
    "        ssim_map = ((2 * mu1_mu2 + C1) * (2 * sigma12 + C2)) / ((mu1_sq + mu2_sq + C1) * (sigma1_sq + sigma2_sq + C2))\n",
    "\n",
    "        if self.size_average:\n",
    "            return 1 - ssim_map.mean()\n",
    "        else:\n",
    "            return 1 - ssim_map.mean(1).mean(1).mean(1)"
   ],
   "metadata": {
    "collapsed": false,
    "ExecuteTime": {
     "end_time": "2024-02-04T16:20:23.179795Z",
     "start_time": "2024-02-04T16:20:23.155151Z"
    }
   },
   "id": "8eb91d770ab905e"
  },
  {
   "cell_type": "code",
   "execution_count": 318,
   "outputs": [
    {
     "name": "stdout",
     "output_type": "stream",
     "text": [
      "Epoch [1/100], Loss: 0.8340, Val Loss: 0.5815\n",
      "Epoch [6/100], Loss: 0.7452, Val Loss: 0.4732\n",
      "Epoch [11/100], Loss: 0.7440, Val Loss: 0.4703\n",
      "Epoch [16/100], Loss: 0.7429, Val Loss: 0.4669\n",
      "Epoch [21/100], Loss: 0.7416, Val Loss: 0.4655\n",
      "Epoch [26/100], Loss: 0.7400, Val Loss: 0.4666\n",
      "Epoch [31/100], Loss: 0.7323, Val Loss: 0.4678\n",
      "Epoch [36/100], Loss: 0.7075, Val Loss: 0.4609\n",
      "Epoch [41/100], Loss: 0.6780, Val Loss: 0.4497\n",
      "Epoch [46/100], Loss: 0.6573, Val Loss: 0.4523\n",
      "Epoch [51/100], Loss: 0.6431, Val Loss: 0.4531\n",
      "Epoch [56/100], Loss: 0.6365, Val Loss: 0.4588\n",
      "Epoch [61/100], Loss: 0.6240, Val Loss: 0.4603\n",
      "Epoch [66/100], Loss: 0.6095, Val Loss: 0.4620\n",
      "Epoch [71/100], Loss: 0.6064, Val Loss: 0.4635\n",
      "Epoch [76/100], Loss: 0.5900, Val Loss: 0.4601\n",
      "Epoch [81/100], Loss: 0.5857, Val Loss: 0.4594\n",
      "Epoch [86/100], Loss: 0.5739, Val Loss: 0.4586\n",
      "Epoch [91/100], Loss: 0.5586, Val Loss: 0.4587\n",
      "Epoch [96/100], Loss: 0.5571, Val Loss: 0.4606\n"
     ]
    }
   ],
   "source": [
    "input_dim = 256  # Reduced to 16 * 16 by CAE\n",
    "hidden_dim = 128  \n",
    "num_layers = 2  \n",
    "output_dim = 256 \n",
    "\n",
    "lstm_ssim = Seq2SeqLSTM(input_dim, hidden_dim, num_layers, output_dim)\n",
    "train_lstm(lstm_ssim, criterion=SSIMLoss())"
   ],
   "metadata": {
    "collapsed": false,
    "ExecuteTime": {
     "end_time": "2024-02-04T16:27:40.449339Z",
     "start_time": "2024-02-04T16:20:24.530547Z"
    }
   },
   "id": "f20841325132434"
  },
  {
   "cell_type": "code",
   "execution_count": 247,
   "outputs": [
    {
     "name": "stdout",
     "output_type": "stream",
     "text": [
      "Epoch [1/100], Loss: 11.4170, Val Loss: 4.9682\n",
      "Epoch [6/100], Loss: 9.8673, Val Loss: 4.3796\n",
      "Epoch [11/100], Loss: 9.0110, Val Loss: 4.1082\n",
      "Epoch [16/100], Loss: 8.3472, Val Loss: 3.9572\n",
      "Epoch [21/100], Loss: 7.8031, Val Loss: 3.8458\n",
      "Epoch [26/100], Loss: 7.3413, Val Loss: 3.7645\n",
      "Epoch [31/100], Loss: 6.9397, Val Loss: 3.6821\n",
      "Epoch [36/100], Loss: 6.5883, Val Loss: 3.6279\n",
      "Epoch [41/100], Loss: 6.2819, Val Loss: 3.6210\n",
      "Epoch [46/100], Loss: 6.0140, Val Loss: 3.5023\n",
      "Epoch [51/100], Loss: 5.7743, Val Loss: 3.5119\n",
      "Epoch [56/100], Loss: 5.5661, Val Loss: 3.4409\n",
      "Epoch [61/100], Loss: 5.3808, Val Loss: 3.4010\n",
      "Epoch [66/100], Loss: 5.2165, Val Loss: 3.2817\n",
      "Epoch [71/100], Loss: 5.0629, Val Loss: 3.3193\n",
      "Epoch [76/100], Loss: 4.9317, Val Loss: 3.2684\n",
      "Epoch [81/100], Loss: 4.8008, Val Loss: 3.2588\n",
      "Epoch [86/100], Loss: 4.6820, Val Loss: 3.2353\n",
      "Epoch [91/100], Loss: 4.5739, Val Loss: 3.2020\n",
      "Epoch [96/100], Loss: 4.4673, Val Loss: 3.1457\n"
     ]
    }
   ],
   "source": [
    "lstm_rmse = Seq2SeqLSTM(input_dim, hidden_dim, num_layers, output_dim)\n",
    "train_lstm(lstm_rmse, criterion=RMSELoss())"
   ],
   "metadata": {
    "collapsed": false,
    "ExecuteTime": {
     "end_time": "2024-02-04T13:58:28.494015Z",
     "start_time": "2024-02-04T13:51:51.222388Z"
    }
   },
   "id": "1677053cccfb234e"
  },
  {
   "cell_type": "code",
   "execution_count": 289,
   "outputs": [
    {
     "name": "stdout",
     "output_type": "stream",
     "text": [
      "Epoch [1/100], Loss: 130.2176, Val Loss: 36.7813\n",
      "Epoch [6/100], Loss: 97.9556, Val Loss: 28.5289\n",
      "Epoch [11/100], Loss: 80.9870, Val Loss: 24.8117\n",
      "Epoch [16/100], Loss: 69.8772, Val Loss: 22.8217\n",
      "Epoch [21/100], Loss: 61.5612, Val Loss: 21.2856\n",
      "Epoch [26/100], Loss: 55.0659, Val Loss: 20.6526\n",
      "Epoch [31/100], Loss: 49.8833, Val Loss: 19.8170\n",
      "Epoch [36/100], Loss: 45.5837, Val Loss: 19.1402\n",
      "Epoch [41/100], Loss: 42.0002, Val Loss: 18.6617\n",
      "Epoch [46/100], Loss: 38.9613, Val Loss: 18.1886\n",
      "Epoch [51/100], Loss: 36.3650, Val Loss: 17.8858\n",
      "Epoch [56/100], Loss: 34.0666, Val Loss: 17.4940\n",
      "Epoch [61/100], Loss: 32.0271, Val Loss: 17.2138\n",
      "Epoch [66/100], Loss: 30.2866, Val Loss: 16.7509\n",
      "Epoch [71/100], Loss: 28.6516, Val Loss: 16.6645\n",
      "Epoch [76/100], Loss: 27.2287, Val Loss: 16.4384\n",
      "Epoch [81/100], Loss: 25.9446, Val Loss: 16.1427\n",
      "Epoch [86/100], Loss: 24.7644, Val Loss: 15.3070\n",
      "Epoch [91/100], Loss: 23.6993, Val Loss: 15.0492\n",
      "Epoch [96/100], Loss: 22.6880, Val Loss: 15.0357\n"
     ]
    }
   ],
   "source": [
    "lstm_mse = Seq2SeqLSTM(input_dim, hidden_dim, num_layers, output_dim)\n",
    "train_lstm(lstm_mse, criterion=nn.MSELoss())"
   ],
   "metadata": {
    "collapsed": false,
    "ExecuteTime": {
     "end_time": "2024-02-04T14:28:49.579630Z",
     "start_time": "2024-02-04T14:22:18.797754Z"
    }
   },
   "id": "87effe4d88bd4130"
  },
  {
   "cell_type": "markdown",
   "source": [
    "### 2.4 Evaluate seq2seq LSTM model"
   ],
   "metadata": {
    "collapsed": false
   },
   "id": "20571f3084a5c7fc"
  },
  {
   "cell_type": "code",
   "execution_count": 248,
   "outputs": [
    {
     "name": "stdout",
     "output_type": "stream",
     "text": [
      "torch.Size([1, 128, 256])\n"
     ]
    }
   ],
   "source": [
    "seq_test_data = create_seq_data(test_data, autoencoder_deep, 1)"
   ],
   "metadata": {
    "collapsed": false,
    "ExecuteTime": {
     "end_time": "2024-02-04T13:59:07.585453Z",
     "start_time": "2024-02-04T13:59:07.527179Z"
    }
   },
   "id": "ead0453ecf0e024a"
  },
  {
   "cell_type": "code",
   "execution_count": 286,
   "outputs": [],
   "source": [
    "def plot_predicted_image(index, model):\n",
    "    recon_lstm = []\n",
    "    output = model(seq_test_data[index]) # output shape: [1, 4, 256]\n",
    "    four_timesteps = torch.split(output, dim=1, split_size_or_sections=1) # timestep shape: [1, 1, 256]\n",
    "    for timestep in four_timesteps: \n",
    "        timestep = timestep.view(1, 1, 16, 16) # timestep shape: [1, 1, 16, 16]\n",
    "        decoded_output = autoencoder_deep.decoder(timestep) # decoded_output [1, 1, 128, 128]\n",
    "        greyscale_image = (torch.logit(decoded_output)).type(torch.uint8).squeeze(0, 1).numpy() # shape [128, 128]\n",
    "        recon_lstm.append(greyscale_image)\n",
    "       \n",
    "    recon_error_lstm = 0\n",
    "    for i in range(4):\n",
    "        recon_error_lstm += np.mean((test_data[index + i + 1].type(torch.uint8).squeeze(0).numpy() - recon_lstm[i])**2)\n",
    "    print(f\"Average LSTM prediction & reconstruction loss: {recon_error_lstm / 4:.4f}\")\n",
    "    fig, ax = plt.subplots(2, 5, figsize=(11, 4))\n",
    "    for i in range(5):\n",
    "        ax[0, i].imshow(test_data[i + index].squeeze(0).numpy())\n",
    "        if i < 4: \n",
    "            ax[1, i + 1].imshow(recon_lstm[i])\n",
    "        ax[0, i].axis('OFF')\n",
    "        ax[1, i].axis('OFF')"
   ],
   "metadata": {
    "collapsed": false,
    "ExecuteTime": {
     "end_time": "2024-02-04T14:21:13.111665Z",
     "start_time": "2024-02-04T14:21:13.104194Z"
    }
   },
   "id": "9071b728dc9c1f81"
  },
  {
   "cell_type": "code",
   "execution_count": 294,
   "outputs": [
    {
     "name": "stdout",
     "output_type": "stream",
     "text": [
      "Average LSTM prediction & reconstruction loss: 0.8454\n"
     ]
    },
    {
     "data": {
      "text/plain": "<Figure size 1100x400 with 10 Axes>",
      "image/png": "[encoded data removed]"
     },
     "metadata": {},
     "output_type": "display_data"
    }
   ],
   "source": [
    "plot_predicted_image(81, lstm_rmse)"
   ],
   "metadata": {
    "collapsed": false,
    "ExecuteTime": {
     "end_time": "2024-02-04T14:30:49.374028Z",
     "start_time": "2024-02-04T14:30:49.242516Z"
    }
   },
   "id": "54907ad4264f15e9"
  },
  {
   "cell_type": "code",
   "execution_count": 293,
   "outputs": [
    {
     "name": "stdout",
     "output_type": "stream",
     "text": [
      "Average LSTM prediction & reconstruction loss: 0.8100\n"
     ]
    },
    {
     "data": {
      "text/plain": "<Figure size 1100x400 with 10 Axes>",
      "image/png": "[encoded data removed]"
     },
     "metadata": {},
     "output_type": "display_data"
    }
   ],
   "source": [
    "plot_predicted_image(81, lstm_mse)"
   ],
   "metadata": {
    "collapsed": false,
    "ExecuteTime": {
     "end_time": "2024-02-04T14:30:46.294642Z",
     "start_time": "2024-02-04T14:30:46.067617Z"
    }
   },
   "id": "d2fc9cd50e02dd16"
  },
  {
   "cell_type": "code",
   "execution_count": 319,
   "outputs": [
    {
     "name": "stdout",
     "output_type": "stream",
     "text": [
      "Average LSTM prediction & reconstruction loss: 0.7739\n"
     ]
    },
    {
     "data": {
      "text/plain": "<Figure size 1100x400 with 10 Axes>",
      "image/png": "[encoded data removed]"
     },
     "metadata": {},
     "output_type": "display_data"
    }
   ],
   "source": [
    "plot_predicted_image(81, lstm_ssim)"
   ],
   "metadata": {
    "collapsed": false,
    "ExecuteTime": {
     "end_time": "2024-02-04T16:31:05.537681Z",
     "start_time": "2024-02-04T16:31:05.429788Z"
    }
   },
   "id": "3fe1c5faf255c26c"
  },
  {
   "cell_type": "markdown",
   "source": [
    "# Question 3"
   ],
   "metadata": {
    "collapsed": false
   },
   "id": "a3aadd61eb3b313c"
  },
  {
   "cell_type": "markdown",
   "source": [
    "### 3.1 Define the ConvLSTM model"
   ],
   "metadata": {
    "collapsed": false
   },
   "id": "eac47ffbd7a81a64"
  },
  {
   "cell_type": "code",
   "execution_count": 522,
   "outputs": [],
   "source": [
    "import torch.nn as nn\n",
    " \n",
    "class ConvLSTMCell(nn.Module):\n",
    " \n",
    "    def __init__(self, in_channels, out_channels, \n",
    "    kernel_size, padding, activation, frame_size):\n",
    " \n",
    "        super(ConvLSTMCell, self).__init__()  \n",
    " \n",
    "        if activation == \"tanh\":\n",
    "            self.activation = torch.tanh \n",
    "        elif activation == \"relu\":\n",
    "            self.activation = torch.relu\n",
    "         \n",
    "        self.conv = nn.Conv2d(\n",
    "            in_channels=in_channels + out_channels, \n",
    "            out_channels=4 * out_channels, \n",
    "            kernel_size=kernel_size, \n",
    "            padding=padding)           \n",
    " \n",
    "        # Initialize weights for Hadamard Products\n",
    "        self.W_ci = nn.Parameter(torch.Tensor(out_channels, *frame_size))\n",
    "        self.W_co = nn.Parameter(torch.Tensor(out_channels, *frame_size))\n",
    "        self.W_cf = nn.Parameter(torch.Tensor(out_channels, *frame_size))\n",
    " \n",
    "    def forward(self, X, H_prev, C_prev):\n",
    " \n",
    "        conv_output = self.conv(torch.cat([X, H_prev], dim=1))\n",
    "        \n",
    "        if has_nan(conv_output):\n",
    "            print(\"nan exists within conv\")\n",
    " \n",
    "        i_conv, f_conv, C_conv, o_conv = torch.chunk(conv_output, chunks=4, dim=1)\n",
    " \n",
    "        input_gate = torch.sigmoid(i_conv + self.W_ci * C_prev )\n",
    "        forget_gate = torch.sigmoid(f_conv + self.W_cf * C_prev )\n",
    " \n",
    "        # Current Cell output\n",
    "        C = forget_gate*C_prev + input_gate * self.activation(C_conv)\n",
    " \n",
    "        output_gate = torch.sigmoid(o_conv + self.W_co * C )\n",
    " \n",
    "        # Current Hidden State\n",
    "        H = output_gate * self.activation(C)\n",
    "        \n",
    "        if has_nan(H):\n",
    "                print(\"nan exists within Cell\")\n",
    " \n",
    "        return H, C"
   ],
   "metadata": {
    "collapsed": false,
    "ExecuteTime": {
     "end_time": "2024-02-05T17:34:29.836714Z",
     "start_time": "2024-02-05T17:34:29.828439Z"
    }
   },
   "id": "296506fdc91c388e"
  },
  {
   "cell_type": "code",
   "execution_count": 523,
   "outputs": [],
   "source": [
    "import torch\n",
    "import torch.nn as nn\n",
    " \n",
    "device = torch.device('cuda' if torch.cuda.is_available() else 'cpu')\n",
    " \n",
    "class ConvLSTM(nn.Module):\n",
    " \n",
    "    def __init__(self, in_channels, out_channels, \n",
    "    kernel_size, padding, activation, frame_size):\n",
    " \n",
    "        super(ConvLSTM, self).__init__()\n",
    " \n",
    "        self.out_channels = out_channels\n",
    " \n",
    "        # We will unroll this over time steps\n",
    "        self.convLSTMcell = ConvLSTMCell(in_channels, out_channels, \n",
    "        kernel_size, padding, activation, frame_size)\n",
    " \n",
    "    def forward(self, X):\n",
    " \n",
    "        # X is a frame sequence (batch_size, num_channels, seq_len, height, width)\n",
    " \n",
    "        # Get the dimensions\n",
    "        batch_size, _, seq_len, height, width = X.size()\n",
    " \n",
    "        # Initialize output\n",
    "        output = torch.zeros(batch_size, self.out_channels, seq_len, \n",
    "        height, width, device=device)\n",
    "         \n",
    "        # Initialize Hidden State\n",
    "        H = torch.zeros(batch_size, self.out_channels, \n",
    "        height, width, device=device)\n",
    " \n",
    "        # Initialize Cell Input\n",
    "        C = torch.zeros(batch_size,self.out_channels, \n",
    "        height, width, device=device)\n",
    " \n",
    "        # Unroll over time steps\n",
    "        for time_step in range(seq_len):\n",
    "            H, C = self.convLSTMcell(X[:,:,time_step], H, C)\n",
    "            output[:,:,time_step] = H\n",
    " \n",
    "        return output"
   ],
   "metadata": {
    "collapsed": false,
    "ExecuteTime": {
     "end_time": "2024-02-05T17:34:30.794519Z",
     "start_time": "2024-02-05T17:34:30.783664Z"
    }
   },
   "id": "b92e66a7f38c16a7"
  },
  {
   "cell_type": "code",
   "execution_count": 524,
   "outputs": [],
   "source": [
    "import torch.nn as nn\n",
    "import torch\n",
    " \n",
    "class Seq2Seq(nn.Module):\n",
    " \n",
    "    def __init__(self, num_channels, num_kernels, kernel_size, padding, \n",
    "    activation, frame_size, num_layers):\n",
    " \n",
    "        super(Seq2Seq, self).__init__()\n",
    " \n",
    "        self.sequential = nn.Sequential()\n",
    " \n",
    "        # Add First layer (Different in_channels than the rest)\n",
    "        self.sequential.add_module(\n",
    "            \"convlstm1\", ConvLSTM(\n",
    "                in_channels=num_channels, out_channels=num_kernels,\n",
    "                kernel_size=kernel_size, padding=padding, \n",
    "                activation=activation, frame_size=frame_size)\n",
    "        )\n",
    " \n",
    "        self.sequential.add_module(\n",
    "            \"batchnorm1\", nn.BatchNorm3d(num_features=num_kernels)\n",
    "        ) \n",
    " \n",
    "        # Add rest of the layers\n",
    "        for l in range(2, num_layers+1):\n",
    " \n",
    "            self.sequential.add_module(\n",
    "                f\"convlstm{l}\", ConvLSTM(\n",
    "                    in_channels=num_kernels, out_channels=num_kernels,\n",
    "                    kernel_size=kernel_size, padding=padding, \n",
    "                    activation=activation, frame_size=frame_size)\n",
    "                )\n",
    "                 \n",
    "            self.sequential.add_module(\n",
    "                f\"batchnorm{l}\", nn.BatchNorm3d(num_features=num_kernels)\n",
    "                ) \n",
    " \n",
    "        # Add Convolutional Layer to predict output frame\n",
    "        self.conv = nn.Conv2d(\n",
    "            in_channels=num_kernels, out_channels=num_channels,\n",
    "            kernel_size=kernel_size, padding=padding)\n",
    " \n",
    "    def forward(self, X):\n",
    " \n",
    "        # Forward propagation through all the layers\n",
    "        output = self.sequential(X)\n",
    " \n",
    "        # Return only the last output frame\n",
    "        output = self.conv(output[:,:,-1])\n",
    "         \n",
    "        return nn.Sigmoid()(output)"
   ],
   "metadata": {
    "collapsed": false,
    "ExecuteTime": {
     "end_time": "2024-02-05T17:34:31.604091Z",
     "start_time": "2024-02-05T17:34:31.575437Z"
    }
   },
   "id": "22f927b34d0833cf"
  },
  {
   "cell_type": "markdown",
   "source": [
    "randomly choose 4 frames from among 16 frames, and ask our network to predict the next 4 frames."
   ],
   "metadata": {
    "collapsed": false
   },
   "id": "8875c7fb43a9808d"
  },
  {
   "cell_type": "markdown",
   "source": [
    "### 3.2 Prepare inputs for the ConvLSTM model"
   ],
   "metadata": {
    "collapsed": false
   },
   "id": "c9f154aab1005cfc"
  },
  {
   "cell_type": "code",
   "execution_count": 535,
   "outputs": [],
   "source": [
    "import random\n",
    "def generate_seq2seq_dataset(raw_data, required_size, input_len=4, targat_len=1):\n",
    "    \"\"\"\n",
    "    :param raw_data: data has shape [32, 16, 128, 128]\n",
    "    :return: input_seq, target_seq\n",
    "    \"\"\" \n",
    "    raw_data = raw_data / 255.0 # make all entries binary\n",
    "    batch_size, total_len, height, width = raw_data.size()\n",
    "    max_start_index = total_len - input_len - targat_len\n",
    "    data_loader = []\n",
    "    for _ in range(required_size):\n",
    "        start_frame = random.randint(0, max_start_index)\n",
    "        end_frame = start_frame + input_len\n",
    "        input_seq = raw_data[:, start_frame:end_frame]\n",
    "        target_seq = raw_data[:, end_frame:end_frame + targat_len]  \n",
    "        data_loader.append((input_seq.unsqueeze(1), target_seq))\n",
    "        \n",
    "    return data_loader"
   ],
   "metadata": {
    "collapsed": false,
    "ExecuteTime": {
     "end_time": "2024-02-05T18:02:39.161532Z",
     "start_time": "2024-02-05T18:02:39.124232Z"
    }
   },
   "id": "9e8f77e160a85cb3"
  },
  {
   "cell_type": "code",
   "execution_count": 497,
   "outputs": [
    {
     "name": "stdout",
     "output_type": "stream",
     "text": [
      "tensor(True)\n",
      "20\n",
      "torch.Size([32, 1, 4, 128, 128]) torch.Size([32, 1, 128, 128])\n"
     ]
    }
   ],
   "source": [
    "# Required inputs shape: [batch_size, num_channels, seq_len, height, width]\n",
    "# current train data: [32, 16, 128, 128]    required train data: [32, 1, 4, 128, 128]\n",
    "train_dataloader = generate_seq2seq_dataset(train_data, 20, input_len=4, targat_len=1)\n",
    "# input seq shape: [batch_size, 4, 1, 128, 128], target seq shape: [batch_size, 4, 1, 128, 128]\n",
    "print(len(train_dataloader))\n",
    "for input, target in train_dataloader: \n",
    "    print(input.shape, target.shape)\n",
    "    break"
   ],
   "metadata": {
    "collapsed": false,
    "ExecuteTime": {
     "end_time": "2024-02-05T16:47:19.300480Z",
     "start_time": "2024-02-05T16:47:19.266605Z"
    }
   },
   "id": "7b21b99418aed227"
  },
  {
   "cell_type": "markdown",
   "source": [
    "### 3.3 Train the ConvLSTM model on train data"
   ],
   "metadata": {
    "collapsed": false
   },
   "id": "181ecfb5813f935b"
  },
  {
   "cell_type": "code",
   "execution_count": 527,
   "outputs": [],
   "source": [
    "def train_convlstm(model):\n",
    "    num_epochs = 20\n",
    "    optimizer = optim.Adam(model.parameters(), lr=1e-4)\n",
    "    criterion = nn.BCELoss()\n",
    "    sigmoid = nn.Sigmoid()\n",
    "    \n",
    "    for epoch in range(num_epochs):\n",
    "        for input_seq, target_seq in train_dataloader: \n",
    "            optimizer.zero_grad()\n",
    "            out_seq = model(input_seq)\n",
    "            # print(check_range(sigmoid(out_seq)), out_seq.shape, out_seq)\n",
    "            loss = criterion(out_seq.flatten(), target_seq.flatten())         # out_seq shape [batch_size, 1, 128, 128]\n",
    "            loss.backward()\n",
    "            optimizer.step()\n",
    "            \n",
    "        print(f'Epoch [{epoch+1}/{num_epochs}], Loss: {loss.item():.4f}')"
   ],
   "metadata": {
    "collapsed": false,
    "ExecuteTime": {
     "end_time": "2024-02-05T17:36:03.938633Z",
     "start_time": "2024-02-05T17:36:03.932629Z"
    }
   },
   "id": "4e768927a8871116"
  },
  {
   "cell_type": "code",
   "execution_count": 525,
   "outputs": [],
   "source": [
    "ConvLSTM = Seq2Seq(num_channels=1, num_kernels=4, kernel_size=(3, 3), padding=(1, 1), activation='relu', frame_size=(128, 128), num_layers=2)"
   ],
   "metadata": {
    "collapsed": false,
    "ExecuteTime": {
     "end_time": "2024-02-05T17:34:34.190048Z",
     "start_time": "2024-02-05T17:34:34.161821Z"
    }
   },
   "id": "62b7cfb0666b4ff9"
  },
  {
   "cell_type": "code",
   "execution_count": 528,
   "outputs": [
    {
     "name": "stdout",
     "output_type": "stream",
     "text": [
      "Epoch [1/20], Loss: 0.4652\n",
      "Epoch [2/20], Loss: 0.4041\n",
      "Epoch [3/20], Loss: 0.3706\n",
      "Epoch [4/20], Loss: 0.3427\n",
      "Epoch [5/20], Loss: 0.3181\n",
      "Epoch [6/20], Loss: 0.2960\n",
      "Epoch [7/20], Loss: 0.2758\n",
      "Epoch [8/20], Loss: 0.2573\n",
      "Epoch [9/20], Loss: 0.2402\n",
      "Epoch [10/20], Loss: 0.2245\n",
      "Epoch [11/20], Loss: 0.2100\n",
      "Epoch [12/20], Loss: 0.1969\n",
      "Epoch [13/20], Loss: 0.1849\n",
      "Epoch [14/20], Loss: 0.1738\n",
      "Epoch [15/20], Loss: 0.1635\n",
      "Epoch [16/20], Loss: 0.1539\n",
      "Epoch [17/20], Loss: 0.1452\n",
      "Epoch [18/20], Loss: 0.1371\n",
      "Epoch [19/20], Loss: 0.1296\n",
      "Epoch [20/20], Loss: 0.1228\n"
     ]
    }
   ],
   "source": [
    "train_convlstm(ConvLSTM)"
   ],
   "metadata": {
    "collapsed": false,
    "ExecuteTime": {
     "end_time": "2024-02-05T17:45:32.898208Z",
     "start_time": "2024-02-05T17:36:05.091990Z"
    }
   },
   "id": "7f9c2af78babd516"
  },
  {
   "cell_type": "markdown",
   "source": [
    "### Test the ConvLSTM model on test data"
   ],
   "metadata": {
    "collapsed": false
   },
   "id": "18441511056f6409"
  },
  {
   "cell_type": "code",
   "execution_count": 533,
   "outputs": [
    {
     "data": {
      "text/plain": "torch.Size([1, 16, 128, 128])"
     },
     "execution_count": 533,
     "metadata": {},
     "output_type": "execute_result"
    }
   ],
   "source": [
    "test_videos_tensor[0:1].shape"
   ],
   "metadata": {
    "collapsed": false,
    "ExecuteTime": {
     "end_time": "2024-02-05T18:02:07.042246Z",
     "start_time": "2024-02-05T18:02:07.016602Z"
    }
   },
   "id": "4e2b630d1799c4d8"
  },
  {
   "cell_type": "code",
   "execution_count": 562,
   "outputs": [],
   "source": [
    "# require shape: [1, 1, 4, 128, 128], test data shape [8, 16, 128, 128]\n",
    "test_dataloader = generate_seq2seq_dataset(test_videos_tensor[0:1], 3, input_len=4, targat_len=1)"
   ],
   "metadata": {
    "collapsed": false,
    "ExecuteTime": {
     "end_time": "2024-02-05T19:21:37.713340Z",
     "start_time": "2024-02-05T19:21:37.703068Z"
    }
   },
   "id": "6fd0e6ba00d6554e"
  },
  {
   "cell_type": "code",
   "execution_count": 564,
   "outputs": [
    {
     "data": {
      "text/plain": "<Figure size 1100x400 with 10 Axes>",
      "image/png": "[encoded data removed]"
     },
     "metadata": {},
     "output_type": "display_data"
    },
    {
     "data": {
      "text/plain": "<Figure size 1100x400 with 10 Axes>",
      "image/png": "[encoded data removed]"
     },
     "metadata": {},
     "output_type": "display_data"
    },
    {
     "data": {
      "text/plain": "<Figure size 1100x400 with 10 Axes>",
      "image/png": "[encoded data removed]"
     },
     "metadata": {},
     "output_type": "display_data"
    }
   ],
   "source": [
    "for test_input, target in test_dataloader:\n",
    "    fig, ax = plt.subplots(2, 5, figsize=(11, 4))\n",
    "    test_output = ConvLSTM(test_input)  # test output shape [1, 1, 128, 128]\n",
    "    inputs = torch.split(test_input, dim=2, split_size_or_sections=1) # 4 * [1, 1, 1, 128, 128]\n",
    "    for index, frame in enumerate(inputs): \n",
    "        greyscale_image = ((frame > 0.5)*255).squeeze(0, 1, 2).numpy() # shape [128, 128]\n",
    "        ax[0, index].imshow(greyscale_image)\n",
    "    ax[0, 4].imshow(((target>0.5)*255).squeeze(0, 1).numpy())\n",
    "    ax[1, 4].imshow(((test_output>0.5)*255).squeeze(0, 1).numpy())\n",
    "    \n",
    "    for i in range(5):\n",
    "        ax[0, i].axis('OFF')\n",
    "        ax[1, i].axis('OFF')"
   ],
   "metadata": {
    "collapsed": false,
    "ExecuteTime": {
     "end_time": "2024-02-05T19:22:29.426747Z",
     "start_time": "2024-02-05T19:22:29.132572Z"
    }
   },
   "id": "dd67d87662a2c79d"
  },
  {
   "cell_type": "code",
   "execution_count": null,
   "outputs": [],
   "source": [],
   "metadata": {
    "collapsed": false
   },
   "id": "40056448f06a982c"
  }
 ],
 "metadata": {
  "kernelspec": {
   "name": "uropenv",
   "language": "python",
   "display_name": "IC UROP ENV"
  },
  "language_info": {
   "codemirror_mode": {
    "name": "ipython",
    "version": 2
   },
   "file_extension": ".py",
   "mimetype": "text/x-python",
   "name": "python",
   "nbconvert_exporter": "python",
   "pygments_lexer": "ipython2",
   "version": "2.7.6"
  }
 },
 "nbformat": 4,
 "nbformat_minor": 5
}
